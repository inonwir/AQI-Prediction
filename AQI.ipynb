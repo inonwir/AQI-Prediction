{
  "nbformat": 4,
  "nbformat_minor": 0,
  "metadata": {
    "colab": {
      "name": "AQI.ipynb",
      "provenance": []
    },
    "kernelspec": {
      "name": "python3",
      "display_name": "Python 3"
    },
    "accelerator": "GPU"
  },
  "cells": [
    {
      "cell_type": "code",
      "metadata": {
        "id": "yE9eOn8dYng-",
        "colab_type": "code",
        "outputId": "82cb65db-fe89-436e-e6c6-9d89065598af",
        "colab": {
          "base_uri": "https://localhost:8080/",
          "height": 34
        }
      },
      "source": [
        "from google.colab import drive\n",
        "drive.mount('/content/drive')"
      ],
      "execution_count": 126,
      "outputs": [
        {
          "output_type": "stream",
          "text": [
            "Drive already mounted at /content/drive; to attempt to forcibly remount, call drive.mount(\"/content/drive\", force_remount=True).\n"
          ],
          "name": "stdout"
        }
      ]
    },
    {
      "cell_type": "code",
      "metadata": {
        "id": "cz15K4ldbxfF",
        "colab_type": "code",
        "colab": {
          "base_uri": "https://localhost:8080/",
          "height": 218
        },
        "outputId": "9445463c-c7ba-435c-8c7d-bac8dfd9ed89"
      },
      "source": [
        "import numpy as np\n",
        "import pandas as pd                  \n",
        "from sklearn.metrics import mean_absolute_error\n",
        "import warnings\n",
        "import matplotlib.pyplot as plt\n",
        "\n",
        "!pip install pmdarima\n",
        "from pmdarima import auto_arima  "
      ],
      "execution_count": 151,
      "outputs": [
        {
          "output_type": "stream",
          "text": [
            "Requirement already satisfied: pmdarima in /usr/local/lib/python3.6/dist-packages (1.3.0)\n",
            "Requirement already satisfied: scipy>=1.3 in /usr/local/lib/python3.6/dist-packages (from pmdarima) (1.3.1)\n",
            "Requirement already satisfied: joblib>=0.11 in /usr/local/lib/python3.6/dist-packages (from pmdarima) (0.14.0)\n",
            "Requirement already satisfied: six>=1.5 in /usr/local/lib/python3.6/dist-packages (from pmdarima) (1.12.0)\n",
            "Requirement already satisfied: pandas>=0.19 in /usr/local/lib/python3.6/dist-packages (from pmdarima) (0.24.2)\n",
            "Requirement already satisfied: Cython>=0.29 in /usr/local/lib/python3.6/dist-packages (from pmdarima) (0.29.13)\n",
            "Requirement already satisfied: numpy>=1.16 in /usr/local/lib/python3.6/dist-packages (from pmdarima) (1.16.5)\n",
            "Requirement already satisfied: scikit-learn>=0.19 in /usr/local/lib/python3.6/dist-packages (from pmdarima) (0.21.3)\n",
            "Requirement already satisfied: statsmodels>=0.10.0 in /usr/local/lib/python3.6/dist-packages (from pmdarima) (0.10.1)\n",
            "Requirement already satisfied: pytz>=2011k in /usr/local/lib/python3.6/dist-packages (from pandas>=0.19->pmdarima) (2018.9)\n",
            "Requirement already satisfied: python-dateutil>=2.5.0 in /usr/local/lib/python3.6/dist-packages (from pandas>=0.19->pmdarima) (2.5.3)\n",
            "Requirement already satisfied: patsy>=0.4.0 in /usr/local/lib/python3.6/dist-packages (from statsmodels>=0.10.0->pmdarima) (0.5.1)\n"
          ],
          "name": "stdout"
        }
      ]
    },
    {
      "cell_type": "markdown",
      "metadata": {
        "id": "jVWfxis36I74",
        "colab_type": "text"
      },
      "source": [
        "**Read Data**"
      ]
    },
    {
      "cell_type": "code",
      "metadata": {
        "id": "uefW3lQOYrjv",
        "colab_type": "code",
        "colab": {
          "base_uri": "https://localhost:8080/",
          "height": 335
        },
        "outputId": "e6799eda-3f25-4cc7-e533-da2265e893bb"
      },
      "source": [
        "df = pd.read_csv(\"/content/drive/My Drive/Colab Notebooks/AQI/AQI.csv\",delimiter='\\t', header = None, encoding='iso-8859-1', names = ['date','AQI'])\n",
        "df.date = pd.to_datetime(df.date)\n",
        "df = df.set_index(\"date\")\n",
        "df.plot()"
      ],
      "execution_count": 202,
      "outputs": [
        {
          "output_type": "execute_result",
          "data": {
            "text/plain": [
              "<matplotlib.axes._subplots.AxesSubplot at 0x7f9bc914ef28>"
            ]
          },
          "metadata": {
            "tags": []
          },
          "execution_count": 202
        },
        {
          "output_type": "display_data",
          "data": {
            "image/png": "[encoded data removed]",
            "text/plain": [
              "<Figure size 432x288 with 1 Axes>"
            ]
          },
          "metadata": {
            "tags": []
          }
        }
      ]
    },
    {
      "cell_type": "code",
      "metadata": {
        "id": "0NS0fohdikrB",
        "colab_type": "code",
        "colab": {
          "base_uri": "https://localhost:8080/",
          "height": 118
        },
        "outputId": "343f9bc6-2045-40f3-8f1a-4d4cb5f958e5"
      },
      "source": [
        "df.info()"
      ],
      "execution_count": 134,
      "outputs": [
        {
          "output_type": "stream",
          "text": [
            "<class 'pandas.core.frame.DataFrame'>\n",
            "DatetimeIndex: 40 entries, 2019-09-05 to 2019-10-14\n",
            "Data columns (total 1 columns):\n",
            "AQI    37 non-null float64\n",
            "dtypes: float64(1)\n",
            "memory usage: 640.0 bytes\n"
          ],
          "name": "stdout"
        }
      ]
    },
    {
      "cell_type": "code",
      "metadata": {
        "id": "1o_THKHHlswU",
        "colab_type": "code",
        "colab": {
          "base_uri": "https://localhost:8080/",
          "height": 225
        },
        "outputId": "6af598ae-4c5a-4233-aadd-3828f1f569e4"
      },
      "source": [
        "df.head()"
      ],
      "execution_count": 135,
      "outputs": [
        {
          "output_type": "execute_result",
          "data": {
            "text/html": [
              "<div>\n",
              "<style scoped>\n",
              "    .dataframe tbody tr th:only-of-type {\n",
              "        vertical-align: middle;\n",
              "    }\n",
              "\n",
              "    .dataframe tbody tr th {\n",
              "        vertical-align: top;\n",
              "    }\n",
              "\n",
              "    .dataframe thead th {\n",
              "        text-align: right;\n",
              "    }\n",
              "</style>\n",
              "<table border=\"1\" class=\"dataframe\">\n",
              "  <thead>\n",
              "    <tr style=\"text-align: right;\">\n",
              "      <th></th>\n",
              "      <th>AQI</th>\n",
              "    </tr>\n",
              "    <tr>\n",
              "      <th>date</th>\n",
              "      <th></th>\n",
              "    </tr>\n",
              "  </thead>\n",
              "  <tbody>\n",
              "    <tr>\n",
              "      <th>2019-09-05</th>\n",
              "      <td>41.0</td>\n",
              "    </tr>\n",
              "    <tr>\n",
              "      <th>2019-09-06</th>\n",
              "      <td>52.0</td>\n",
              "    </tr>\n",
              "    <tr>\n",
              "      <th>2019-09-07</th>\n",
              "      <td>53.0</td>\n",
              "    </tr>\n",
              "    <tr>\n",
              "      <th>2019-09-08</th>\n",
              "      <td>36.0</td>\n",
              "    </tr>\n",
              "    <tr>\n",
              "      <th>2019-09-09</th>\n",
              "      <td>47.0</td>\n",
              "    </tr>\n",
              "  </tbody>\n",
              "</table>\n",
              "</div>"
            ],
            "text/plain": [
              "             AQI\n",
              "date            \n",
              "2019-09-05  41.0\n",
              "2019-09-06  52.0\n",
              "2019-09-07  53.0\n",
              "2019-09-08  36.0\n",
              "2019-09-09  47.0"
            ]
          },
          "metadata": {
            "tags": []
          },
          "execution_count": 135
        }
      ]
    },
    {
      "cell_type": "markdown",
      "metadata": {
        "id": "28rbwPiw6MuP",
        "colab_type": "text"
      },
      "source": [
        "**Using auto_arima to obtain optimal hyperparameters**"
      ]
    },
    {
      "cell_type": "code",
      "metadata": {
        "id": "JdQRHrlq7JNH",
        "colab_type": "code",
        "colab": {
          "base_uri": "https://localhost:8080/",
          "height": 300
        },
        "outputId": "f598b4c0-df0e-4888-80cd-ce2b14fc62a9"
      },
      "source": [
        "from statsmodels.tsa.seasonal import seasonal_decompose \n",
        "a = seasonal_decompose(df[\"AQI\"][:37], model = \"add\")\n",
        "a.plot();"
      ],
      "execution_count": 161,
      "outputs": [
        {
          "output_type": "display_data",
          "data": {
            "image/png": "[encoded data removed]",
            "text/plain": [
              "<Figure size 432x288 with 4 Axes>"
            ]
          },
          "metadata": {
            "tags": []
          }
        }
      ]
    },
    {
      "cell_type": "code",
      "metadata": {
        "id": "0ytpM-kj7iue",
        "colab_type": "code",
        "colab": {
          "base_uri": "https://localhost:8080/",
          "height": 318
        },
        "outputId": "b4702758-9f9e-4539-8f96-4c42c1598195"
      },
      "source": [
        "a.seasonal.plot();"
      ],
      "execution_count": 162,
      "outputs": [
        {
          "output_type": "display_data",
          "data": {
            "image/png": "[encoded data removed]",
            "text/plain": [
              "<Figure size 432x288 with 1 Axes>"
            ]
          },
          "metadata": {
            "tags": []
          }
        }
      ]
    },
    {
      "cell_type": "code",
      "metadata": {
        "id": "JhUnvINVrnzX",
        "colab_type": "code",
        "colab": {
          "base_uri": "https://localhost:8080/",
          "height": 1000
        },
        "outputId": "600a2b97-c79d-4dbd-ae0e-08e9d5972259"
      },
      "source": [
        "auto_arima(df.iloc[:37,:], seasonal=True, m=12, max_p=7, max_d=5,max_q=7, max_P=4, max_D=4,max_Q=4).summary()"
      ],
      "execution_count": 164,
      "outputs": [
        {
          "output_type": "stream",
          "text": [
            "/usr/local/lib/python3.6/dist-packages/statsmodels/tsa/statespace/sarimax.py:949: UserWarning: Non-stationary starting autoregressive parameters found. Using zeros as starting parameters.\n",
            "  warn('Non-stationary starting autoregressive parameters'\n",
            "/usr/local/lib/python3.6/dist-packages/statsmodels/tsa/statespace/sarimax.py:961: UserWarning: Non-invertible starting MA parameters found. Using zeros as starting parameters.\n",
            "  warn('Non-invertible starting MA parameters found.'\n",
            "/usr/local/lib/python3.6/dist-packages/pmdarima/arima/_auto_solvers.py:211: ModelFitWarning: Unable to fit ARIMA for order=(2, 1, 2) seasonal_order=(1, 0, 1, 12); data is likely non-stationary. (if you do not want to see these warnings, run with error_action=\"ignore\")\n",
            "  ModelFitWarning)\n",
            "/usr/local/lib/python3.6/dist-packages/pmdarima/arima/_auto_solvers.py:211: ModelFitWarning: Unable to fit ARIMA for order=(0, 1, 1) seasonal_order=(0, 0, 1, 12); data is likely non-stationary. (if you do not want to see these warnings, run with error_action=\"ignore\")\n",
            "  ModelFitWarning)\n",
            "/usr/local/lib/python3.6/dist-packages/pmdarima/arima/_auto_solvers.py:211: ModelFitWarning: Unable to fit ARIMA for order=(0, 1, 0) seasonal_order=(0, 0, 1, 12); data is likely non-stationary. (if you do not want to see these warnings, run with error_action=\"ignore\")\n",
            "  ModelFitWarning)\n",
            "/usr/local/lib/python3.6/dist-packages/pmdarima/arima/_auto_solvers.py:211: ModelFitWarning: Unable to fit ARIMA for order=(0, 1, 0) seasonal_order=(1, 0, 1, 12); data is likely non-stationary. (if you do not want to see these warnings, run with error_action=\"ignore\")\n",
            "  ModelFitWarning)\n",
            "/usr/local/lib/python3.6/dist-packages/statsmodels/tsa/statespace/sarimax.py:949: UserWarning: Non-stationary starting autoregressive parameters found. Using zeros as starting parameters.\n",
            "  warn('Non-stationary starting autoregressive parameters'\n",
            "/usr/local/lib/python3.6/dist-packages/statsmodels/tsa/statespace/sarimax.py:961: UserWarning: Non-invertible starting MA parameters found. Using zeros as starting parameters.\n",
            "  warn('Non-invertible starting MA parameters found.'\n",
            "/usr/local/lib/python3.6/dist-packages/statsmodels/tsa/statespace/sarimax.py:949: UserWarning: Non-stationary starting autoregressive parameters found. Using zeros as starting parameters.\n",
            "  warn('Non-stationary starting autoregressive parameters'\n",
            "/usr/local/lib/python3.6/dist-packages/statsmodels/tsa/statespace/sarimax.py:961: UserWarning: Non-invertible starting MA parameters found. Using zeros as starting parameters.\n",
            "  warn('Non-invertible starting MA parameters found.'\n",
            "/usr/local/lib/python3.6/dist-packages/statsmodels/tsa/statespace/sarimax.py:949: UserWarning: Non-stationary starting autoregressive parameters found. Using zeros as starting parameters.\n",
            "  warn('Non-stationary starting autoregressive parameters'\n",
            "/usr/local/lib/python3.6/dist-packages/statsmodels/tsa/statespace/sarimax.py:961: UserWarning: Non-invertible starting MA parameters found. Using zeros as starting parameters.\n",
            "  warn('Non-invertible starting MA parameters found.'\n",
            "/usr/local/lib/python3.6/dist-packages/pmdarima/arima/_auto_solvers.py:211: ModelFitWarning: Unable to fit ARIMA for order=(1, 1, 1) seasonal_order=(0, 0, 1, 12); data is likely non-stationary. (if you do not want to see these warnings, run with error_action=\"ignore\")\n",
            "  ModelFitWarning)\n",
            "/usr/local/lib/python3.6/dist-packages/statsmodels/tsa/statespace/sarimax.py:949: UserWarning: Non-stationary starting autoregressive parameters found. Using zeros as starting parameters.\n",
            "  warn('Non-stationary starting autoregressive parameters'\n",
            "/usr/local/lib/python3.6/dist-packages/statsmodels/tsa/statespace/sarimax.py:961: UserWarning: Non-invertible starting MA parameters found. Using zeros as starting parameters.\n",
            "  warn('Non-invertible starting MA parameters found.'\n",
            "/usr/local/lib/python3.6/dist-packages/pmdarima/arima/_auto_solvers.py:211: ModelFitWarning: Unable to fit ARIMA for order=(1, 1, 1) seasonal_order=(1, 0, 1, 12); data is likely non-stationary. (if you do not want to see these warnings, run with error_action=\"ignore\")\n",
            "  ModelFitWarning)\n",
            "/usr/local/lib/python3.6/dist-packages/statsmodels/tsa/statespace/sarimax.py:949: UserWarning: Non-stationary starting autoregressive parameters found. Using zeros as starting parameters.\n",
            "  warn('Non-stationary starting autoregressive parameters'\n",
            "/usr/local/lib/python3.6/dist-packages/statsmodels/tsa/statespace/sarimax.py:961: UserWarning: Non-invertible starting MA parameters found. Using zeros as starting parameters.\n",
            "  warn('Non-invertible starting MA parameters found.'\n",
            "/usr/local/lib/python3.6/dist-packages/statsmodels/base/model.py:512: ConvergenceWarning: Maximum Likelihood optimization failed to converge. Check mle_retvals\n",
            "  \"Check mle_retvals\", ConvergenceWarning)\n",
            "/usr/local/lib/python3.6/dist-packages/statsmodels/base/model.py:512: ConvergenceWarning: Maximum Likelihood optimization failed to converge. Check mle_retvals\n",
            "  \"Check mle_retvals\", ConvergenceWarning)\n",
            "/usr/local/lib/python3.6/dist-packages/statsmodels/tsa/statespace/sarimax.py:949: UserWarning: Non-stationary starting autoregressive parameters found. Using zeros as starting parameters.\n",
            "  warn('Non-stationary starting autoregressive parameters'\n",
            "/usr/local/lib/python3.6/dist-packages/statsmodels/tsa/statespace/sarimax.py:961: UserWarning: Non-invertible starting MA parameters found. Using zeros as starting parameters.\n",
            "  warn('Non-invertible starting MA parameters found.'\n",
            "/usr/local/lib/python3.6/dist-packages/statsmodels/base/model.py:512: ConvergenceWarning: Maximum Likelihood optimization failed to converge. Check mle_retvals\n",
            "  \"Check mle_retvals\", ConvergenceWarning)\n"
          ],
          "name": "stderr"
        },
        {
          "output_type": "execute_result",
          "data": {
            "text/html": [
              "<table class=\"simpletable\">\n",
              "<caption>Statespace Model Results</caption>\n",
              "<tr>\n",
              "  <th>Dep. Variable:</th>           <td>y</td>        <th>  No. Observations:  </th>    <td>37</td>   \n",
              "</tr>\n",
              "<tr>\n",
              "  <th>Model:</th>           <td>SARIMAX(1, 1, 1)</td> <th>  Log Likelihood     </th> <td>-158.977</td>\n",
              "</tr>\n",
              "<tr>\n",
              "  <th>Date:</th>            <td>Fri, 11 Oct 2019</td> <th>  AIC                </th>  <td>325.954</td>\n",
              "</tr>\n",
              "<tr>\n",
              "  <th>Time:</th>                <td>13:12:30</td>     <th>  BIC                </th>  <td>332.289</td>\n",
              "</tr>\n",
              "<tr>\n",
              "  <th>Sample:</th>                  <td>0</td>        <th>  HQIC               </th>  <td>328.165</td>\n",
              "</tr>\n",
              "<tr>\n",
              "  <th></th>                       <td> - 37</td>      <th>                     </th>     <td> </td>   \n",
              "</tr>\n",
              "<tr>\n",
              "  <th>Covariance Type:</th>        <td>opg</td>       <th>                     </th>     <td> </td>   \n",
              "</tr>\n",
              "</table>\n",
              "<table class=\"simpletable\">\n",
              "<tr>\n",
              "      <td></td>         <th>coef</th>     <th>std err</th>      <th>z</th>      <th>P>|z|</th>  <th>[0.025</th>    <th>0.975]</th>  \n",
              "</tr>\n",
              "<tr>\n",
              "  <th>intercept</th> <td>    0.4520</td> <td>    0.389</td> <td>    1.162</td> <td> 0.245</td> <td>   -0.311</td> <td>    1.215</td>\n",
              "</tr>\n",
              "<tr>\n",
              "  <th>ar.L1</th>     <td>    0.6956</td> <td>    0.265</td> <td>    2.630</td> <td> 0.009</td> <td>    0.177</td> <td>    1.214</td>\n",
              "</tr>\n",
              "<tr>\n",
              "  <th>ma.L1</th>     <td>   -0.9999</td> <td>   87.690</td> <td>   -0.011</td> <td> 0.991</td> <td> -172.869</td> <td>  170.869</td>\n",
              "</tr>\n",
              "<tr>\n",
              "  <th>sigma2</th>    <td>  379.3670</td> <td> 3.32e+04</td> <td>    0.011</td> <td> 0.991</td> <td>-6.47e+04</td> <td> 6.55e+04</td>\n",
              "</tr>\n",
              "</table>\n",
              "<table class=\"simpletable\">\n",
              "<tr>\n",
              "  <th>Ljung-Box (Q):</th>           <td>nan</td> <th>  Jarque-Bera (JB):  </th> <td>0.19</td>\n",
              "</tr>\n",
              "<tr>\n",
              "  <th>Prob(Q):</th>                 <td>nan</td> <th>  Prob(JB):          </th> <td>0.91</td>\n",
              "</tr>\n",
              "<tr>\n",
              "  <th>Heteroskedasticity (H):</th> <td>1.96</td> <th>  Skew:              </th> <td>0.16</td>\n",
              "</tr>\n",
              "<tr>\n",
              "  <th>Prob(H) (two-sided):</th>    <td>0.26</td> <th>  Kurtosis:          </th> <td>3.15</td>\n",
              "</tr>\n",
              "</table><br/><br/>Warnings:<br/>[1] Covariance matrix calculated using the outer product of gradients (complex-step)."
            ],
            "text/plain": [
              "<class 'statsmodels.iolib.summary.Summary'>\n",
              "\"\"\"\n",
              "                           Statespace Model Results                           \n",
              "==============================================================================\n",
              "Dep. Variable:                      y   No. Observations:                   37\n",
              "Model:               SARIMAX(1, 1, 1)   Log Likelihood                -158.977\n",
              "Date:                Fri, 11 Oct 2019   AIC                            325.954\n",
              "Time:                        13:12:30   BIC                            332.289\n",
              "Sample:                             0   HQIC                           328.165\n",
              "                                 - 37                                         \n",
              "Covariance Type:                  opg                                         \n",
              "==============================================================================\n",
              "                 coef    std err          z      P>|z|      [0.025      0.975]\n",
              "------------------------------------------------------------------------------\n",
              "intercept      0.4520      0.389      1.162      0.245      -0.311       1.215\n",
              "ar.L1          0.6956      0.265      2.630      0.009       0.177       1.214\n",
              "ma.L1         -0.9999     87.690     -0.011      0.991    -172.869     170.869\n",
              "sigma2       379.3670   3.32e+04      0.011      0.991   -6.47e+04    6.55e+04\n",
              "===================================================================================\n",
              "Ljung-Box (Q):                         nan   Jarque-Bera (JB):                 0.19\n",
              "Prob(Q):                               nan   Prob(JB):                         0.91\n",
              "Heteroskedasticity (H):               1.96   Skew:                             0.16\n",
              "Prob(H) (two-sided):                  0.26   Kurtosis:                         3.15\n",
              "===================================================================================\n",
              "\n",
              "Warnings:\n",
              "[1] Covariance matrix calculated using the outer product of gradients (complex-step).\n",
              "\"\"\""
            ]
          },
          "metadata": {
            "tags": []
          },
          "execution_count": 164
        }
      ]
    },
    {
      "cell_type": "code",
      "metadata": {
        "id": "MuYIpBP4r3aN",
        "colab_type": "code",
        "colab": {
          "base_uri": "https://localhost:8080/",
          "height": 439
        },
        "outputId": "c78553cc-5819-4cba-af9b-e6f6a38a2d04"
      },
      "source": [
        "from statsmodels.tsa.statespace.sarimax import SARIMAX\n",
        "train = df.iloc[:30]\n",
        "test = df.iloc[30:37]\n",
        "test2 = df.iloc[30:]\n",
        "\n",
        "arima_model = SARIMAX(train['AQI'], order = (1,1,1))\n",
        "arima_result = arima_model.fit()\n",
        "arima_result.summary()"
      ],
      "execution_count": 234,
      "outputs": [
        {
          "output_type": "stream",
          "text": [
            "/usr/local/lib/python3.6/dist-packages/statsmodels/tsa/base/tsa_model.py:165: ValueWarning: No frequency information was provided, so inferred frequency D will be used.\n",
            "  % freq, ValueWarning)\n"
          ],
          "name": "stderr"
        },
        {
          "output_type": "execute_result",
          "data": {
            "text/html": [
              "<table class=\"simpletable\">\n",
              "<caption>Statespace Model Results</caption>\n",
              "<tr>\n",
              "  <th>Dep. Variable:</th>          <td>AQI</td>       <th>  No. Observations:  </th>    <td>30</td>   \n",
              "</tr>\n",
              "<tr>\n",
              "  <th>Model:</th>           <td>SARIMAX(1, 1, 1)</td> <th>  Log Likelihood     </th> <td>-130.626</td>\n",
              "</tr>\n",
              "<tr>\n",
              "  <th>Date:</th>            <td>Fri, 11 Oct 2019</td> <th>  AIC                </th>  <td>267.253</td>\n",
              "</tr>\n",
              "<tr>\n",
              "  <th>Time:</th>                <td>14:23:52</td>     <th>  BIC                </th>  <td>271.355</td>\n",
              "</tr>\n",
              "<tr>\n",
              "  <th>Sample:</th>             <td>09-05-2019</td>    <th>  HQIC               </th>  <td>268.537</td>\n",
              "</tr>\n",
              "<tr>\n",
              "  <th></th>                   <td>- 10-04-2019</td>   <th>                     </th>     <td> </td>   \n",
              "</tr>\n",
              "<tr>\n",
              "  <th>Covariance Type:</th>        <td>opg</td>       <th>                     </th>     <td> </td>   \n",
              "</tr>\n",
              "</table>\n",
              "<table class=\"simpletable\">\n",
              "<tr>\n",
              "     <td></td>       <th>coef</th>     <th>std err</th>      <th>z</th>      <th>P>|z|</th>  <th>[0.025</th>    <th>0.975]</th>  \n",
              "</tr>\n",
              "<tr>\n",
              "  <th>ar.L1</th>  <td>    0.5692</td> <td>    0.368</td> <td>    1.547</td> <td> 0.122</td> <td>   -0.152</td> <td>    1.291</td>\n",
              "</tr>\n",
              "<tr>\n",
              "  <th>ma.L1</th>  <td>   -0.8004</td> <td>    0.234</td> <td>   -3.423</td> <td> 0.001</td> <td>   -1.259</td> <td>   -0.342</td>\n",
              "</tr>\n",
              "<tr>\n",
              "  <th>sigma2</th> <td>  475.3152</td> <td>  140.640</td> <td>    3.380</td> <td> 0.001</td> <td>  199.665</td> <td>  750.965</td>\n",
              "</tr>\n",
              "</table>\n",
              "<table class=\"simpletable\">\n",
              "<tr>\n",
              "  <th>Ljung-Box (Q):</th>           <td>nan</td> <th>  Jarque-Bera (JB):  </th> <td>0.45</td> \n",
              "</tr>\n",
              "<tr>\n",
              "  <th>Prob(Q):</th>                 <td>nan</td> <th>  Prob(JB):          </th> <td>0.80</td> \n",
              "</tr>\n",
              "<tr>\n",
              "  <th>Heteroskedasticity (H):</th> <td>3.33</td> <th>  Skew:              </th> <td>-0.21</td>\n",
              "</tr>\n",
              "<tr>\n",
              "  <th>Prob(H) (two-sided):</th>    <td>0.07</td> <th>  Kurtosis:          </th> <td>3.44</td> \n",
              "</tr>\n",
              "</table><br/><br/>Warnings:<br/>[1] Covariance matrix calculated using the outer product of gradients (complex-step)."
            ],
            "text/plain": [
              "<class 'statsmodels.iolib.summary.Summary'>\n",
              "\"\"\"\n",
              "                           Statespace Model Results                           \n",
              "==============================================================================\n",
              "Dep. Variable:                    AQI   No. Observations:                   30\n",
              "Model:               SARIMAX(1, 1, 1)   Log Likelihood                -130.626\n",
              "Date:                Fri, 11 Oct 2019   AIC                            267.253\n",
              "Time:                        14:23:52   BIC                            271.355\n",
              "Sample:                    09-05-2019   HQIC                           268.537\n",
              "                         - 10-04-2019                                         \n",
              "Covariance Type:                  opg                                         \n",
              "==============================================================================\n",
              "                 coef    std err          z      P>|z|      [0.025      0.975]\n",
              "------------------------------------------------------------------------------\n",
              "ar.L1          0.5692      0.368      1.547      0.122      -0.152       1.291\n",
              "ma.L1         -0.8004      0.234     -3.423      0.001      -1.259      -0.342\n",
              "sigma2       475.3152    140.640      3.380      0.001     199.665     750.965\n",
              "===================================================================================\n",
              "Ljung-Box (Q):                         nan   Jarque-Bera (JB):                 0.45\n",
              "Prob(Q):                               nan   Prob(JB):                         0.80\n",
              "Heteroskedasticity (H):               3.33   Skew:                            -0.21\n",
              "Prob(H) (two-sided):                  0.07   Kurtosis:                         3.44\n",
              "===================================================================================\n",
              "\n",
              "Warnings:\n",
              "[1] Covariance matrix calculated using the outer product of gradients (complex-step).\n",
              "\"\"\""
            ]
          },
          "metadata": {
            "tags": []
          },
          "execution_count": 234
        }
      ]
    },
    {
      "cell_type": "code",
      "metadata": {
        "id": "gXVyasBW0oSw",
        "colab_type": "code",
        "colab": {
          "base_uri": "https://localhost:8080/",
          "height": 202
        },
        "outputId": "3239eb54-6145-4197-aad3-9aa350b7b58a"
      },
      "source": [
        "arima_pred = arima_result.predict(start = len(train), end = len(df)-1, typ=\"levels\").rename(\"ARIMA Predictions\")\n",
        "arima_pred"
      ],
      "execution_count": 207,
      "outputs": [
        {
          "output_type": "execute_result",
          "data": {
            "text/plain": [
              "2019-10-05    89.476485\n",
              "2019-10-06    90.886141\n",
              "2019-10-07    91.688540\n",
              "2019-10-08    92.145279\n",
              "2019-10-09    92.405262\n",
              "2019-10-10    92.553249\n",
              "2019-10-11    92.637485\n",
              "2019-10-12    92.685434\n",
              "2019-10-13    92.712727\n",
              "2019-10-14    92.728263\n",
              "Freq: D, Name: ARIMA Predictions, dtype: float64"
            ]
          },
          "metadata": {
            "tags": []
          },
          "execution_count": 207
        }
      ]
    },
    {
      "cell_type": "code",
      "metadata": {
        "id": "rMYSIFEP01K2",
        "colab_type": "code",
        "colab": {
          "base_uri": "https://localhost:8080/",
          "height": 323
        },
        "outputId": "9f5581cf-87e9-40e8-8b13-b511b0546893"
      },
      "source": [
        "test['AQI'].plot( legend=True)\n",
        "arima_pred.plot(legend = True)"
      ],
      "execution_count": 208,
      "outputs": [
        {
          "output_type": "execute_result",
          "data": {
            "text/plain": [
              "<matplotlib.axes._subplots.AxesSubplot at 0x7f9b78102898>"
            ]
          },
          "metadata": {
            "tags": []
          },
          "execution_count": 208
        },
        {
          "output_type": "display_data",
          "data": {
            "image/png": "[encoded data removed]",
            "text/plain": [
              "<Figure size 432x288 with 1 Axes>"
            ]
          },
          "metadata": {
            "tags": []
          }
        }
      ]
    },
    {
      "cell_type": "code",
      "metadata": {
        "id": "DNtC1XRl1Okf",
        "colab_type": "code",
        "colab": {
          "base_uri": "https://localhost:8080/",
          "height": 50
        },
        "outputId": "04519d47-6d9a-4be1-c7be-38b987775d43"
      },
      "source": [
        "arima_mae_error = mean_absolute_error(test['AQI'], arima_pred[:7])\n",
        "\n",
        "mean_value = df['AQI'].mean()\n",
        "\n",
        "print(f'MAE Error: {arima_mae_error}\\nMean: {mean_value}')"
      ],
      "execution_count": 209,
      "outputs": [
        {
          "output_type": "stream",
          "text": [
            "MAE Error: 16.240849264013494\n",
            "Mean: 73.05405405405405\n"
          ],
          "name": "stdout"
        }
      ]
    },
    {
      "cell_type": "markdown",
      "metadata": {
        "id": "qaVXqkur-JGB",
        "colab_type": "text"
      },
      "source": [
        "**Using LSTM**"
      ]
    },
    {
      "cell_type": "code",
      "metadata": {
        "id": "JcQvvnqPUauB",
        "colab_type": "code",
        "colab": {}
      },
      "source": [
        "import numpy as np\n",
        "import pandas as pd                  \n",
        "from sklearn.metrics import mean_absolute_error\n",
        "from keras.preprocessing.sequence import TimeseriesGenerator\n",
        "import matplotlib.pyplot as plt"
      ],
      "execution_count": 0,
      "outputs": []
    },
    {
      "cell_type": "code",
      "metadata": {
        "id": "8mU58TPiUoZi",
        "colab_type": "code",
        "colab": {
          "base_uri": "https://localhost:8080/",
          "height": 335
        },
        "outputId": "f43e03bb-8ac8-4651-b68e-3c60f496f444"
      },
      "source": [
        "df = pd.read_csv(\"/content/drive/My Drive/Colab Notebooks/AQI/AQI.csv\",delimiter='\\t', header = None, encoding='iso-8859-1', names = ['date','AQI'])\n",
        "df.date = pd.to_datetime(df.date)\n",
        "df = df.set_index(\"date\")\n",
        "df.plot()"
      ],
      "execution_count": 371,
      "outputs": [
        {
          "output_type": "execute_result",
          "data": {
            "text/plain": [
              "<matplotlib.axes._subplots.AxesSubplot at 0x7f9b749ac470>"
            ]
          },
          "metadata": {
            "tags": []
          },
          "execution_count": 371
        },
        {
          "output_type": "display_data",
          "data": {
            "image/png": "[encoded data removed]",
            "text/plain": [
              "<Figure size 432x288 with 1 Axes>"
            ]
          },
          "metadata": {
            "tags": []
          }
        }
      ]
    },
    {
      "cell_type": "code",
      "metadata": {
        "id": "JHeFbxKPVDb6",
        "colab_type": "code",
        "colab": {
          "base_uri": "https://localhost:8080/",
          "height": 118
        },
        "outputId": "c4f5c740-c9d2-4940-bdb6-bc5198c564b1"
      },
      "source": [
        "df.info()"
      ],
      "execution_count": 372,
      "outputs": [
        {
          "output_type": "stream",
          "text": [
            "<class 'pandas.core.frame.DataFrame'>\n",
            "DatetimeIndex: 40 entries, 2019-09-05 to 2019-10-14\n",
            "Data columns (total 1 columns):\n",
            "AQI    37 non-null float64\n",
            "dtypes: float64(1)\n",
            "memory usage: 640.0 bytes\n"
          ],
          "name": "stdout"
        }
      ]
    },
    {
      "cell_type": "code",
      "metadata": {
        "id": "5egOBhCuVrQr",
        "colab_type": "code",
        "colab": {
          "base_uri": "https://localhost:8080/",
          "height": 225
        },
        "outputId": "64b62895-5d30-43cc-9366-8f1a5d1ace20"
      },
      "source": [
        "df.tail()"
      ],
      "execution_count": 373,
      "outputs": [
        {
          "output_type": "execute_result",
          "data": {
            "text/html": [
              "<div>\n",
              "<style scoped>\n",
              "    .dataframe tbody tr th:only-of-type {\n",
              "        vertical-align: middle;\n",
              "    }\n",
              "\n",
              "    .dataframe tbody tr th {\n",
              "        vertical-align: top;\n",
              "    }\n",
              "\n",
              "    .dataframe thead th {\n",
              "        text-align: right;\n",
              "    }\n",
              "</style>\n",
              "<table border=\"1\" class=\"dataframe\">\n",
              "  <thead>\n",
              "    <tr style=\"text-align: right;\">\n",
              "      <th></th>\n",
              "      <th>AQI</th>\n",
              "    </tr>\n",
              "    <tr>\n",
              "      <th>date</th>\n",
              "      <th></th>\n",
              "    </tr>\n",
              "  </thead>\n",
              "  <tbody>\n",
              "    <tr>\n",
              "      <th>2019-10-10</th>\n",
              "      <td>95.0</td>\n",
              "    </tr>\n",
              "    <tr>\n",
              "      <th>2019-10-11</th>\n",
              "      <td>83.0</td>\n",
              "    </tr>\n",
              "    <tr>\n",
              "      <th>2019-10-12</th>\n",
              "      <td>NaN</td>\n",
              "    </tr>\n",
              "    <tr>\n",
              "      <th>2019-10-13</th>\n",
              "      <td>NaN</td>\n",
              "    </tr>\n",
              "    <tr>\n",
              "      <th>2019-10-14</th>\n",
              "      <td>NaN</td>\n",
              "    </tr>\n",
              "  </tbody>\n",
              "</table>\n",
              "</div>"
            ],
            "text/plain": [
              "             AQI\n",
              "date            \n",
              "2019-10-10  95.0\n",
              "2019-10-11  83.0\n",
              "2019-10-12   NaN\n",
              "2019-10-13   NaN\n",
              "2019-10-14   NaN"
            ]
          },
          "metadata": {
            "tags": []
          },
          "execution_count": 373
        }
      ]
    },
    {
      "cell_type": "code",
      "metadata": {
        "id": "tmCuIyz6-Ic1",
        "colab_type": "code",
        "colab": {}
      },
      "source": [
        "from sklearn.preprocessing import MinMaxScaler\n",
        "scaler = MinMaxScaler()\n",
        "scaler.fit(train)\n",
        "scaled_train_data = scaler.transform(train)\n",
        "scaled_test_data = scaler.transform(test)\n",
        "scaled_test2_data = scaler.transform(test2)"
      ],
      "execution_count": 0,
      "outputs": []
    },
    {
      "cell_type": "markdown",
      "metadata": {
        "id": "OamSNMDsShGl",
        "colab_type": "text"
      },
      "source": [
        "Define LSTM model"
      ]
    },
    {
      "cell_type": "code",
      "metadata": {
        "id": "hQLWnDxU4p0H",
        "colab_type": "code",
        "colab": {
          "base_uri": "https://localhost:8080/",
          "height": 252
        },
        "outputId": "63ac8a11-afa2-42b6-9bf3-34c5c67b00ad"
      },
      "source": [
        "n_input = 3\n",
        "n_features= 1\n",
        "generator = TimeseriesGenerator(scaled_train_data, scaled_train_data, length=n_input, batch_size=1)\n",
        "from keras.models import Sequential\n",
        "from keras.layers import Dense\n",
        "from keras.layers import LSTM\n",
        "\n",
        "lstm_model = Sequential()\n",
        "lstm_model.add(LSTM(10, activation='relu', input_shape=(n_input, n_features)))\n",
        "lstm_model.add(Dense(3))\n",
        "lstm_model.add(Dense(1))\n",
        "lstm_model.compile(optimizer='adam', loss='mse')\n",
        "\n",
        "lstm_model.summary()"
      ],
      "execution_count": 378,
      "outputs": [
        {
          "output_type": "stream",
          "text": [
            "Model: \"sequential_28\"\n",
            "_________________________________________________________________\n",
            "Layer (type)                 Output Shape              Param #   \n",
            "=================================================================\n",
            "lstm_28 (LSTM)               (None, 10)                480       \n",
            "_________________________________________________________________\n",
            "dense_44 (Dense)             (None, 3)                 33        \n",
            "_________________________________________________________________\n",
            "dense_45 (Dense)             (None, 1)                 4         \n",
            "=================================================================\n",
            "Total params: 517\n",
            "Trainable params: 517\n",
            "Non-trainable params: 0\n",
            "_________________________________________________________________\n"
          ],
          "name": "stdout"
        }
      ]
    },
    {
      "cell_type": "markdown",
      "metadata": {
        "id": "2EEg-Mq9SmuM",
        "colab_type": "text"
      },
      "source": [
        "Train"
      ]
    },
    {
      "cell_type": "code",
      "metadata": {
        "id": "9rAxBjGO-r07",
        "colab_type": "code",
        "colab": {
          "base_uri": "https://localhost:8080/",
          "height": 1000
        },
        "outputId": "875763b1-9425-468d-ec77-75f7967aeb1b"
      },
      "source": [
        "lstm_model.fit_generator(generator,epochs=30)"
      ],
      "execution_count": 360,
      "outputs": [
        {
          "output_type": "stream",
          "text": [
            "Epoch 1/30\n",
            "27/27 [==============================] - 5s 194ms/step - loss: 0.1745\n",
            "Epoch 2/30\n",
            "27/27 [==============================] - 0s 14ms/step - loss: 0.1212\n",
            "Epoch 3/30\n",
            "27/27 [==============================] - 0s 15ms/step - loss: 0.0768\n",
            "Epoch 4/30\n",
            "27/27 [==============================] - 0s 16ms/step - loss: 0.0561\n",
            "Epoch 5/30\n",
            "27/27 [==============================] - 0s 14ms/step - loss: 0.0443\n",
            "Epoch 6/30\n",
            "27/27 [==============================] - 0s 14ms/step - loss: 0.0416\n",
            "Epoch 7/30\n",
            "27/27 [==============================] - 0s 15ms/step - loss: 0.0412\n",
            "Epoch 8/30\n",
            "27/27 [==============================] - 0s 14ms/step - loss: 0.0404\n",
            "Epoch 9/30\n",
            "27/27 [==============================] - 0s 14ms/step - loss: 0.0393\n",
            "Epoch 10/30\n",
            "27/27 [==============================] - 0s 14ms/step - loss: 0.0389\n",
            "Epoch 11/30\n",
            "27/27 [==============================] - 0s 14ms/step - loss: 0.0384\n",
            "Epoch 12/30\n",
            "27/27 [==============================] - 0s 14ms/step - loss: 0.0379\n",
            "Epoch 13/30\n",
            "27/27 [==============================] - 0s 16ms/step - loss: 0.0376\n",
            "Epoch 14/30\n",
            "27/27 [==============================] - 0s 14ms/step - loss: 0.0368\n",
            "Epoch 15/30\n",
            "27/27 [==============================] - 0s 14ms/step - loss: 0.0367\n",
            "Epoch 16/30\n",
            "27/27 [==============================] - 0s 14ms/step - loss: 0.0386\n",
            "Epoch 17/30\n",
            "27/27 [==============================] - 0s 14ms/step - loss: 0.0358\n",
            "Epoch 18/30\n",
            "27/27 [==============================] - 0s 15ms/step - loss: 0.0353\n",
            "Epoch 19/30\n",
            "27/27 [==============================] - 0s 15ms/step - loss: 0.0352\n",
            "Epoch 20/30\n",
            "27/27 [==============================] - 0s 15ms/step - loss: 0.0354\n",
            "Epoch 21/30\n",
            "27/27 [==============================] - 0s 15ms/step - loss: 0.0360\n",
            "Epoch 22/30\n",
            "27/27 [==============================] - 0s 17ms/step - loss: 0.0346\n",
            "Epoch 23/30\n",
            "27/27 [==============================] - 0s 15ms/step - loss: 0.0342\n",
            "Epoch 24/30\n",
            "27/27 [==============================] - 0s 14ms/step - loss: 0.0341\n",
            "Epoch 25/30\n",
            "27/27 [==============================] - 0s 15ms/step - loss: 0.0346\n",
            "Epoch 26/30\n",
            "27/27 [==============================] - 0s 15ms/step - loss: 0.0351\n",
            "Epoch 27/30\n",
            "27/27 [==============================] - 0s 14ms/step - loss: 0.0339\n",
            "Epoch 28/30\n",
            "27/27 [==============================] - 0s 15ms/step - loss: 0.0336\n",
            "Epoch 29/30\n",
            "27/27 [==============================] - 0s 17ms/step - loss: 0.0345\n",
            "Epoch 30/30\n",
            "27/27 [==============================] - 0s 13ms/step - loss: 0.0362\n"
          ],
          "name": "stdout"
        },
        {
          "output_type": "execute_result",
          "data": {
            "text/plain": [
              "<keras.callbacks.History at 0x7f9b72cc8c18>"
            ]
          },
          "metadata": {
            "tags": []
          },
          "execution_count": 360
        }
      ]
    },
    {
      "cell_type": "code",
      "metadata": {
        "id": "WOHCYSqr-u7q",
        "colab_type": "code",
        "colab": {
          "base_uri": "https://localhost:8080/",
          "height": 283
        },
        "outputId": "62b1aaca-79f9-4f90-d11d-0f1a67b08e49"
      },
      "source": [
        "losses_lstm = lstm_model.history.history['loss']\n",
        "plt.figure(figsize=(12,4))\n",
        "plt.xlabel(\"Epochs\")\n",
        "plt.ylabel(\"Loss\")\n",
        "plt.xticks(np.arange(0,31,1))\n",
        "plt.plot(range(len(losses_lstm)),losses_lstm);"
      ],
      "execution_count": 361,
      "outputs": [
        {
          "output_type": "display_data",
          "data": {
            "image/png": "[encoded data removed]",
            "text/plain": [
              "<Figure size 864x288 with 1 Axes>"
            ]
          },
          "metadata": {
            "tags": []
          }
        }
      ]
    },
    {
      "cell_type": "code",
      "metadata": {
        "id": "GJJCIro2-2A8",
        "colab_type": "code",
        "colab": {}
      },
      "source": [
        "lstm_predictions_scaled = list()\n",
        "\n",
        "batch = scaled_train_data[-n_input:]\n",
        "current_batch = batch.reshape((1, n_input, n_features))\n",
        "\n",
        "for i in range(len(test2)):   \n",
        "    lstm_pred = lstm_model.predict(current_batch)[0]\n",
        "    lstm_predictions_scaled.append(lstm_pred) \n",
        "    current_batch = np.append(current_batch[:,1:,:],[[lstm_pred]],axis=1)"
      ],
      "execution_count": 0,
      "outputs": []
    },
    {
      "cell_type": "code",
      "metadata": {
        "id": "VblVvh2r_vn0",
        "colab_type": "code",
        "colab": {
          "base_uri": "https://localhost:8080/",
          "height": 185
        },
        "outputId": "33a0cb60-006e-4a0f-f290-8430abfc867b"
      },
      "source": [
        "lstm_predictions_scaled"
      ],
      "execution_count": 363,
      "outputs": [
        {
          "output_type": "execute_result",
          "data": {
            "text/plain": [
              "[array([0.43866122], dtype=float32),\n",
              " array([0.44048023], dtype=float32),\n",
              " array([0.4595428], dtype=float32),\n",
              " array([0.45474237], dtype=float32),\n",
              " array([0.45794562], dtype=float32),\n",
              " array([0.46146896], dtype=float32),\n",
              " array([0.4619457], dtype=float32),\n",
              " array([0.46341512], dtype=float32),\n",
              " array([0.46454325], dtype=float32),\n",
              " array([0.46519086], dtype=float32)]"
            ]
          },
          "metadata": {
            "tags": []
          },
          "execution_count": 363
        }
      ]
    },
    {
      "cell_type": "code",
      "metadata": {
        "id": "ZMhCaUBA_x-j",
        "colab_type": "code",
        "colab": {
          "base_uri": "https://localhost:8080/",
          "height": 185
        },
        "outputId": "36d0ca78-e257-4ace-c6bb-82f914eb964a"
      },
      "source": [
        "lstm_predictions = scaler.inverse_transform(lstm_predictions_scaled)\n",
        "lstm_predictions"
      ],
      "execution_count": 364,
      "outputs": [
        {
          "output_type": "execute_result",
          "data": {
            "text/plain": [
              "array([[80.41257048],\n",
              "       [80.66723251],\n",
              "       [83.33599353],\n",
              "       [82.66393209],\n",
              "       [83.11238611],\n",
              "       [83.60565507],\n",
              "       [83.67239976],\n",
              "       [83.87811625],\n",
              "       [84.03605545],\n",
              "       [84.12672007]])"
            ]
          },
          "metadata": {
            "tags": []
          },
          "execution_count": 364
        }
      ]
    },
    {
      "cell_type": "code",
      "metadata": {
        "id": "877GgNcQ_0nv",
        "colab_type": "code",
        "colab": {
          "base_uri": "https://localhost:8080/",
          "height": 474
        },
        "outputId": "e2528395-96a0-4e57-81e7-a4ae39a94e22"
      },
      "source": [
        "test2['LSTM_Predictions'] = lstm_predictions\n",
        "test2"
      ],
      "execution_count": 365,
      "outputs": [
        {
          "output_type": "stream",
          "text": [
            "/usr/local/lib/python3.6/dist-packages/ipykernel_launcher.py:1: SettingWithCopyWarning: \n",
            "A value is trying to be set on a copy of a slice from a DataFrame.\n",
            "Try using .loc[row_indexer,col_indexer] = value instead\n",
            "\n",
            "See the caveats in the documentation: http://pandas.pydata.org/pandas-docs/stable/indexing.html#indexing-view-versus-copy\n",
            "  \"\"\"Entry point for launching an IPython kernel.\n"
          ],
          "name": "stderr"
        },
        {
          "output_type": "execute_result",
          "data": {
            "text/html": [
              "<div>\n",
              "<style scoped>\n",
              "    .dataframe tbody tr th:only-of-type {\n",
              "        vertical-align: middle;\n",
              "    }\n",
              "\n",
              "    .dataframe tbody tr th {\n",
              "        vertical-align: top;\n",
              "    }\n",
              "\n",
              "    .dataframe thead th {\n",
              "        text-align: right;\n",
              "    }\n",
              "</style>\n",
              "<table border=\"1\" class=\"dataframe\">\n",
              "  <thead>\n",
              "    <tr style=\"text-align: right;\">\n",
              "      <th></th>\n",
              "      <th>AQI</th>\n",
              "      <th>LSTM_Predictions</th>\n",
              "    </tr>\n",
              "    <tr>\n",
              "      <th>date</th>\n",
              "      <th></th>\n",
              "      <th></th>\n",
              "    </tr>\n",
              "  </thead>\n",
              "  <tbody>\n",
              "    <tr>\n",
              "      <th>2019-10-05</th>\n",
              "      <td>84.0</td>\n",
              "      <td>80.412570</td>\n",
              "    </tr>\n",
              "    <tr>\n",
              "      <th>2019-10-06</th>\n",
              "      <td>74.0</td>\n",
              "      <td>80.667233</td>\n",
              "    </tr>\n",
              "    <tr>\n",
              "      <th>2019-10-07</th>\n",
              "      <td>54.0</td>\n",
              "      <td>83.335994</td>\n",
              "    </tr>\n",
              "    <tr>\n",
              "      <th>2019-10-08</th>\n",
              "      <td>60.0</td>\n",
              "      <td>82.663932</td>\n",
              "    </tr>\n",
              "    <tr>\n",
              "      <th>2019-10-09</th>\n",
              "      <td>83.0</td>\n",
              "      <td>83.112386</td>\n",
              "    </tr>\n",
              "    <tr>\n",
              "      <th>2019-10-10</th>\n",
              "      <td>95.0</td>\n",
              "      <td>83.605655</td>\n",
              "    </tr>\n",
              "    <tr>\n",
              "      <th>2019-10-11</th>\n",
              "      <td>83.0</td>\n",
              "      <td>83.672400</td>\n",
              "    </tr>\n",
              "    <tr>\n",
              "      <th>2019-10-12</th>\n",
              "      <td>NaN</td>\n",
              "      <td>83.878116</td>\n",
              "    </tr>\n",
              "    <tr>\n",
              "      <th>2019-10-13</th>\n",
              "      <td>NaN</td>\n",
              "      <td>84.036055</td>\n",
              "    </tr>\n",
              "    <tr>\n",
              "      <th>2019-10-14</th>\n",
              "      <td>NaN</td>\n",
              "      <td>84.126720</td>\n",
              "    </tr>\n",
              "  </tbody>\n",
              "</table>\n",
              "</div>"
            ],
            "text/plain": [
              "             AQI  LSTM_Predictions\n",
              "date                              \n",
              "2019-10-05  84.0         80.412570\n",
              "2019-10-06  74.0         80.667233\n",
              "2019-10-07  54.0         83.335994\n",
              "2019-10-08  60.0         82.663932\n",
              "2019-10-09  83.0         83.112386\n",
              "2019-10-10  95.0         83.605655\n",
              "2019-10-11  83.0         83.672400\n",
              "2019-10-12   NaN         83.878116\n",
              "2019-10-13   NaN         84.036055\n",
              "2019-10-14   NaN         84.126720"
            ]
          },
          "metadata": {
            "tags": []
          },
          "execution_count": 365
        }
      ]
    },
    {
      "cell_type": "code",
      "metadata": {
        "id": "qyN7z31tAPo3",
        "colab_type": "code",
        "colab": {
          "base_uri": "https://localhost:8080/",
          "height": 306
        },
        "outputId": "b7034534-da7d-42b7-da5c-e30521d4e24f"
      },
      "source": [
        "test2['AQI'].plot(legend=True)\n",
        "test2['LSTM_Predictions'].plot(legend = True);"
      ],
      "execution_count": 366,
      "outputs": [
        {
          "output_type": "display_data",
          "data": {
            "image/png": "[encoded data removed]",
            "text/plain": [
              "<Figure size 432x288 with 1 Axes>"
            ]
          },
          "metadata": {
            "tags": []
          }
        }
      ]
    },
    {
      "cell_type": "code",
      "metadata": {
        "id": "TRa4APD9PcoZ",
        "colab_type": "code",
        "colab": {
          "base_uri": "https://localhost:8080/",
          "height": 373
        },
        "outputId": "04be56f1-41c3-45ab-98f0-f6de17e91bea"
      },
      "source": [
        "test2[:]"
      ],
      "execution_count": 367,
      "outputs": [
        {
          "output_type": "execute_result",
          "data": {
            "text/html": [
              "<div>\n",
              "<style scoped>\n",
              "    .dataframe tbody tr th:only-of-type {\n",
              "        vertical-align: middle;\n",
              "    }\n",
              "\n",
              "    .dataframe tbody tr th {\n",
              "        vertical-align: top;\n",
              "    }\n",
              "\n",
              "    .dataframe thead th {\n",
              "        text-align: right;\n",
              "    }\n",
              "</style>\n",
              "<table border=\"1\" class=\"dataframe\">\n",
              "  <thead>\n",
              "    <tr style=\"text-align: right;\">\n",
              "      <th></th>\n",
              "      <th>AQI</th>\n",
              "      <th>LSTM_Predictions</th>\n",
              "    </tr>\n",
              "    <tr>\n",
              "      <th>date</th>\n",
              "      <th></th>\n",
              "      <th></th>\n",
              "    </tr>\n",
              "  </thead>\n",
              "  <tbody>\n",
              "    <tr>\n",
              "      <th>2019-10-05</th>\n",
              "      <td>84.0</td>\n",
              "      <td>80.412570</td>\n",
              "    </tr>\n",
              "    <tr>\n",
              "      <th>2019-10-06</th>\n",
              "      <td>74.0</td>\n",
              "      <td>80.667233</td>\n",
              "    </tr>\n",
              "    <tr>\n",
              "      <th>2019-10-07</th>\n",
              "      <td>54.0</td>\n",
              "      <td>83.335994</td>\n",
              "    </tr>\n",
              "    <tr>\n",
              "      <th>2019-10-08</th>\n",
              "      <td>60.0</td>\n",
              "      <td>82.663932</td>\n",
              "    </tr>\n",
              "    <tr>\n",
              "      <th>2019-10-09</th>\n",
              "      <td>83.0</td>\n",
              "      <td>83.112386</td>\n",
              "    </tr>\n",
              "    <tr>\n",
              "      <th>2019-10-10</th>\n",
              "      <td>95.0</td>\n",
              "      <td>83.605655</td>\n",
              "    </tr>\n",
              "    <tr>\n",
              "      <th>2019-10-11</th>\n",
              "      <td>83.0</td>\n",
              "      <td>83.672400</td>\n",
              "    </tr>\n",
              "    <tr>\n",
              "      <th>2019-10-12</th>\n",
              "      <td>NaN</td>\n",
              "      <td>83.878116</td>\n",
              "    </tr>\n",
              "    <tr>\n",
              "      <th>2019-10-13</th>\n",
              "      <td>NaN</td>\n",
              "      <td>84.036055</td>\n",
              "    </tr>\n",
              "    <tr>\n",
              "      <th>2019-10-14</th>\n",
              "      <td>NaN</td>\n",
              "      <td>84.126720</td>\n",
              "    </tr>\n",
              "  </tbody>\n",
              "</table>\n",
              "</div>"
            ],
            "text/plain": [
              "             AQI  LSTM_Predictions\n",
              "date                              \n",
              "2019-10-05  84.0         80.412570\n",
              "2019-10-06  74.0         80.667233\n",
              "2019-10-07  54.0         83.335994\n",
              "2019-10-08  60.0         82.663932\n",
              "2019-10-09  83.0         83.112386\n",
              "2019-10-10  95.0         83.605655\n",
              "2019-10-11  83.0         83.672400\n",
              "2019-10-12   NaN         83.878116\n",
              "2019-10-13   NaN         84.036055\n",
              "2019-10-14   NaN         84.126720"
            ]
          },
          "metadata": {
            "tags": []
          },
          "execution_count": 367
        }
      ]
    },
    {
      "cell_type": "code",
      "metadata": {
        "id": "voGV9_-lAkG7",
        "colab_type": "code",
        "colab": {
          "base_uri": "https://localhost:8080/",
          "height": 50
        },
        "outputId": "15a96679-3e5b-4b0d-a664-4f74d4f5dd8c"
      },
      "source": [
        "lstm_mae_error = mean_absolute_error(test2['AQI'][:-3], test2['LSTM_Predictions'][:-3])\n",
        "\n",
        "mean_value = df['AQI'].mean()\n",
        "\n",
        "print(f'MAE Error: {lstm_mae_error}\\nMean: {mean_value}')"
      ],
      "execution_count": 368,
      "outputs": [
        {
          "output_type": "stream",
          "text": [
            "MAE Error: 10.633388348988124\n",
            "Mean: 73.05405405405405\n"
          ],
          "name": "stdout"
        }
      ]
    },
    {
      "cell_type": "code",
      "metadata": {
        "id": "6RmpuRxNIvYW",
        "colab_type": "code",
        "colab": {}
      },
      "source": [
        ""
      ],
      "execution_count": 0,
      "outputs": []
    }
  ]
}